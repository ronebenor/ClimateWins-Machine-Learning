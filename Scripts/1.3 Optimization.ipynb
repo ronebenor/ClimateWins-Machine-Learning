{
 "cells": [
  {
   "cell_type": "code",
   "execution_count": 3,
   "id": "5aeaf87d-6f94-471b-87d4-0a5ea776b895",
   "metadata": {},
   "outputs": [],
   "source": [
    "# import libraries\n",
    "import pandas as pd\n",
    "import plotly.express as px\n",
    "import numpy as np\n",
    "import matplotlib.pyplot as plt\n",
    "import os\n",
    "from mpl_toolkits import mplot3d\n",
    "from plotly.offline import download_plotlyjs, init_notebook_mode\n",
    "from plotly.offline import plot, iplot\n",
    "import plotly.graph_objects as go"
   ]
  },
  {
   "cell_type": "code",
   "execution_count": 4,
   "id": "dea33471-c88d-43a9-a12e-08b617a7087f",
   "metadata": {},
   "outputs": [],
   "source": [
    "# import data\n",
    "path = r'C:\\Users\\samco\\OneDrive\\Data Sets\\ClimateWins Dataset'"
   ]
  },
  {
   "cell_type": "code",
   "execution_count": 7,
   "id": "7141e4f9-0fef-4226-be0d-a802ade6f085",
   "metadata": {},
   "outputs": [],
   "source": [
    "climate = pd.read_csv(os.path.join(path, 'DATASET_scaled.csv'))"
   ]
  },
  {
   "cell_type": "code",
   "execution_count": 8,
   "id": "099cb3a8-2b6d-4e12-9b81-fcd44c9776cf",
   "metadata": {},
   "outputs": [],
   "source": [
    "#Reduce to just the mean temperatures\n",
    "df = climate[['DATE', 'MONTH','BASEL_temp_mean',\n",
    " 'BELGRADE_temp_mean',\n",
    " 'BUDAPEST_temp_mean',\n",
    " 'DEBILT_temp_mean',\n",
    " 'DUSSELDORF_temp_mean',\n",
    " 'GDANSK_temp_mean',\n",
    " 'HEATHROW_temp_mean',\n",
    " 'KASSEL_temp_mean',\n",
    " 'LJUBLJANA_temp_mean',\n",
    " 'MAASTRICHT_temp_mean',\n",
    " 'MADRID_temp_mean',\n",
    " 'MUNCHENB_temp_mean',\n",
    " 'OSLO_temp_mean',\n",
    " 'ROMA_temp_mean',\n",
    " 'SONNBLICK_temp_mean',\n",
    " 'STOCKHOLM_temp_mean',\n",
    " 'TOURS_temp_mean',\n",
    " 'VALENTIA_temp_mean']].copy()"
   ]
  },
  {
   "cell_type": "code",
   "execution_count": 11,
   "id": "c42f46f3-6415-426a-8e97-3cd9b6454beb",
   "metadata": {},
   "outputs": [
    {
     "data": {
      "text/html": [
       "<div>\n",
       "<style scoped>\n",
       "    .dataframe tbody tr th:only-of-type {\n",
       "        vertical-align: middle;\n",
       "    }\n",
       "\n",
       "    .dataframe tbody tr th {\n",
       "        vertical-align: top;\n",
       "    }\n",
       "\n",
       "    .dataframe thead th {\n",
       "        text-align: right;\n",
       "    }\n",
       "</style>\n",
       "<table border=\"1\" class=\"dataframe\">\n",
       "  <thead>\n",
       "    <tr style=\"text-align: right;\">\n",
       "      <th></th>\n",
       "      <th>DATE</th>\n",
       "      <th>MONTH</th>\n",
       "      <th>BASEL_temp_mean</th>\n",
       "      <th>BELGRADE_temp_mean</th>\n",
       "      <th>BUDAPEST_temp_mean</th>\n",
       "      <th>DEBILT_temp_mean</th>\n",
       "      <th>DUSSELDORF_temp_mean</th>\n",
       "      <th>GDANSK_temp_mean</th>\n",
       "      <th>HEATHROW_temp_mean</th>\n",
       "      <th>KASSEL_temp_mean</th>\n",
       "      <th>LJUBLJANA_temp_mean</th>\n",
       "      <th>MAASTRICHT_temp_mean</th>\n",
       "      <th>MADRID_temp_mean</th>\n",
       "      <th>MUNCHENB_temp_mean</th>\n",
       "      <th>OSLO_temp_mean</th>\n",
       "      <th>ROMA_temp_mean</th>\n",
       "      <th>SONNBLICK_temp_mean</th>\n",
       "      <th>STOCKHOLM_temp_mean</th>\n",
       "      <th>TOURS_temp_mean</th>\n",
       "      <th>VALENTIA_temp_mean</th>\n",
       "    </tr>\n",
       "  </thead>\n",
       "  <tbody>\n",
       "    <tr>\n",
       "      <th>0</th>\n",
       "      <td>-1.707663</td>\n",
       "      <td>-1.599964</td>\n",
       "      <td>-0.528623</td>\n",
       "      <td>-1.016876</td>\n",
       "      <td>-1.099163</td>\n",
       "      <td>-0.114356</td>\n",
       "      <td>-0.105836</td>\n",
       "      <td>-0.927601</td>\n",
       "      <td>-0.106469</td>\n",
       "      <td>-0.182904</td>\n",
       "      <td>-1.370824</td>\n",
       "      <td>-0.097084</td>\n",
       "      <td>-0.988280</td>\n",
       "      <td>-0.265742</td>\n",
       "      <td>-0.186575</td>\n",
       "      <td>-1.280450</td>\n",
       "      <td>-0.124331</td>\n",
       "      <td>-0.391072</td>\n",
       "      <td>-0.257321</td>\n",
       "      <td>-0.668215</td>\n",
       "    </tr>\n",
       "    <tr>\n",
       "      <th>1</th>\n",
       "      <td>-1.707657</td>\n",
       "      <td>-1.599964</td>\n",
       "      <td>-0.582946</td>\n",
       "      <td>-1.107669</td>\n",
       "      <td>-1.110927</td>\n",
       "      <td>-0.367511</td>\n",
       "      <td>-0.370915</td>\n",
       "      <td>-0.825294</td>\n",
       "      <td>-0.892676</td>\n",
       "      <td>-0.212437</td>\n",
       "      <td>-1.043881</td>\n",
       "      <td>-0.232112</td>\n",
       "      <td>-0.691740</td>\n",
       "      <td>-0.353714</td>\n",
       "      <td>-0.368598</td>\n",
       "      <td>-0.539569</td>\n",
       "      <td>-0.650834</td>\n",
       "      <td>-0.415953</td>\n",
       "      <td>-0.335759</td>\n",
       "      <td>-0.548046</td>\n",
       "    </tr>\n",
       "    <tr>\n",
       "      <th>2</th>\n",
       "      <td>-1.707652</td>\n",
       "      <td>-1.599964</td>\n",
       "      <td>-0.257010</td>\n",
       "      <td>-1.084971</td>\n",
       "      <td>-1.063873</td>\n",
       "      <td>-0.509912</td>\n",
       "      <td>-0.532908</td>\n",
       "      <td>-0.940389</td>\n",
       "      <td>-0.490837</td>\n",
       "      <td>-0.389635</td>\n",
       "      <td>-0.741156</td>\n",
       "      <td>-0.487164</td>\n",
       "      <td>-0.853490</td>\n",
       "      <td>-0.403983</td>\n",
       "      <td>-0.550620</td>\n",
       "      <td>-0.876333</td>\n",
       "      <td>-0.650834</td>\n",
       "      <td>-0.615003</td>\n",
       "      <td>-0.210258</td>\n",
       "      <td>-0.067372</td>\n",
       "    </tr>\n",
       "    <tr>\n",
       "      <th>3</th>\n",
       "      <td>-1.707646</td>\n",
       "      <td>-1.599964</td>\n",
       "      <td>-0.555784</td>\n",
       "      <td>-1.209812</td>\n",
       "      <td>-1.146217</td>\n",
       "      <td>-0.525734</td>\n",
       "      <td>-0.577088</td>\n",
       "      <td>-1.042696</td>\n",
       "      <td>-0.316124</td>\n",
       "      <td>-0.493001</td>\n",
       "      <td>-0.910682</td>\n",
       "      <td>-0.472161</td>\n",
       "      <td>-0.624345</td>\n",
       "      <td>-0.642763</td>\n",
       "      <td>-0.417137</td>\n",
       "      <td>-0.775304</td>\n",
       "      <td>-0.943336</td>\n",
       "      <td>-0.764290</td>\n",
       "      <td>-0.069069</td>\n",
       "      <td>-0.998679</td>\n",
       "    </tr>\n",
       "    <tr>\n",
       "      <th>4</th>\n",
       "      <td>-1.707641</td>\n",
       "      <td>-1.599964</td>\n",
       "      <td>-1.003946</td>\n",
       "      <td>-1.209812</td>\n",
       "      <td>-1.087400</td>\n",
       "      <td>-0.320045</td>\n",
       "      <td>-0.444548</td>\n",
       "      <td>-0.978754</td>\n",
       "      <td>-0.403481</td>\n",
       "      <td>-0.552067</td>\n",
       "      <td>-0.862246</td>\n",
       "      <td>-0.307127</td>\n",
       "      <td>-0.381721</td>\n",
       "      <td>-0.906678</td>\n",
       "      <td>-0.332193</td>\n",
       "      <td>-0.926848</td>\n",
       "      <td>-0.621584</td>\n",
       "      <td>-0.503037</td>\n",
       "      <td>-0.037694</td>\n",
       "      <td>-1.509396</td>\n",
       "    </tr>\n",
       "    <tr>\n",
       "      <th>...</th>\n",
       "      <td>...</td>\n",
       "      <td>...</td>\n",
       "      <td>...</td>\n",
       "      <td>...</td>\n",
       "      <td>...</td>\n",
       "      <td>...</td>\n",
       "      <td>...</td>\n",
       "      <td>...</td>\n",
       "      <td>...</td>\n",
       "      <td>...</td>\n",
       "      <td>...</td>\n",
       "      <td>...</td>\n",
       "      <td>...</td>\n",
       "      <td>...</td>\n",
       "      <td>...</td>\n",
       "      <td>...</td>\n",
       "      <td>...</td>\n",
       "      <td>...</td>\n",
       "      <td>...</td>\n",
       "      <td>...</td>\n",
       "    </tr>\n",
       "    <tr>\n",
       "      <th>22945</th>\n",
       "      <td>1.715693</td>\n",
       "      <td>1.013583</td>\n",
       "      <td>0.747959</td>\n",
       "      <td>0.628750</td>\n",
       "      <td>-0.005167</td>\n",
       "      <td>0.898267</td>\n",
       "      <td>1.042841</td>\n",
       "      <td>0.440753</td>\n",
       "      <td>0.906865</td>\n",
       "      <td>-0.005705</td>\n",
       "      <td>0.481853</td>\n",
       "      <td>1.268193</td>\n",
       "      <td>0.683127</td>\n",
       "      <td>0.664244</td>\n",
       "      <td>0.395898</td>\n",
       "      <td>-0.000746</td>\n",
       "      <td>0.826301</td>\n",
       "      <td>0.517090</td>\n",
       "      <td>1.295755</td>\n",
       "      <td>-0.007287</td>\n",
       "    </tr>\n",
       "    <tr>\n",
       "      <th>22946</th>\n",
       "      <td>1.715699</td>\n",
       "      <td>1.013583</td>\n",
       "      <td>0.856604</td>\n",
       "      <td>0.367720</td>\n",
       "      <td>-0.005167</td>\n",
       "      <td>0.945734</td>\n",
       "      <td>1.278467</td>\n",
       "      <td>0.466330</td>\n",
       "      <td>0.802037</td>\n",
       "      <td>-0.005705</td>\n",
       "      <td>0.263891</td>\n",
       "      <td>1.313202</td>\n",
       "      <td>0.561815</td>\n",
       "      <td>0.890456</td>\n",
       "      <td>0.541516</td>\n",
       "      <td>-0.000746</td>\n",
       "      <td>1.074927</td>\n",
       "      <td>0.641496</td>\n",
       "      <td>1.358505</td>\n",
       "      <td>-0.007287</td>\n",
       "    </tr>\n",
       "    <tr>\n",
       "      <th>22947</th>\n",
       "      <td>1.715704</td>\n",
       "      <td>1.013583</td>\n",
       "      <td>0.856604</td>\n",
       "      <td>0.083991</td>\n",
       "      <td>-0.005167</td>\n",
       "      <td>0.914089</td>\n",
       "      <td>1.101748</td>\n",
       "      <td>0.786039</td>\n",
       "      <td>0.924336</td>\n",
       "      <td>-0.005705</td>\n",
       "      <td>0.300218</td>\n",
       "      <td>1.208181</td>\n",
       "      <td>0.548336</td>\n",
       "      <td>1.053832</td>\n",
       "      <td>0.395898</td>\n",
       "      <td>-0.000746</td>\n",
       "      <td>1.221178</td>\n",
       "      <td>0.716139</td>\n",
       "      <td>1.405568</td>\n",
       "      <td>-0.007287</td>\n",
       "    </tr>\n",
       "    <tr>\n",
       "      <th>22948</th>\n",
       "      <td>1.715710</td>\n",
       "      <td>1.013583</td>\n",
       "      <td>0.680055</td>\n",
       "      <td>0.265577</td>\n",
       "      <td>-0.005167</td>\n",
       "      <td>0.692578</td>\n",
       "      <td>0.880848</td>\n",
       "      <td>0.376811</td>\n",
       "      <td>0.697210</td>\n",
       "      <td>-0.005705</td>\n",
       "      <td>0.397090</td>\n",
       "      <td>0.923123</td>\n",
       "      <td>0.103526</td>\n",
       "      <td>0.689378</td>\n",
       "      <td>-0.065226</td>\n",
       "      <td>-0.000746</td>\n",
       "      <td>1.235803</td>\n",
       "      <td>0.019467</td>\n",
       "      <td>0.668249</td>\n",
       "      <td>-0.007287</td>\n",
       "    </tr>\n",
       "    <tr>\n",
       "      <th>22949</th>\n",
       "      <td>1.715715</td>\n",
       "      <td>1.013583</td>\n",
       "      <td>0.422023</td>\n",
       "      <td>0.197483</td>\n",
       "      <td>-0.005167</td>\n",
       "      <td>0.439422</td>\n",
       "      <td>0.659949</td>\n",
       "      <td>0.159409</td>\n",
       "      <td>0.435140</td>\n",
       "      <td>-0.005705</td>\n",
       "      <td>0.348654</td>\n",
       "      <td>0.773092</td>\n",
       "      <td>-0.112140</td>\n",
       "      <td>0.488300</td>\n",
       "      <td>0.335224</td>\n",
       "      <td>-0.000746</td>\n",
       "      <td>0.987177</td>\n",
       "      <td>0.293160</td>\n",
       "      <td>0.809438</td>\n",
       "      <td>-0.007287</td>\n",
       "    </tr>\n",
       "  </tbody>\n",
       "</table>\n",
       "<p>22950 rows × 20 columns</p>\n",
       "</div>"
      ],
      "text/plain": [
       "           DATE     MONTH  BASEL_temp_mean  BELGRADE_temp_mean  \\\n",
       "0     -1.707663 -1.599964        -0.528623           -1.016876   \n",
       "1     -1.707657 -1.599964        -0.582946           -1.107669   \n",
       "2     -1.707652 -1.599964        -0.257010           -1.084971   \n",
       "3     -1.707646 -1.599964        -0.555784           -1.209812   \n",
       "4     -1.707641 -1.599964        -1.003946           -1.209812   \n",
       "...         ...       ...              ...                 ...   \n",
       "22945  1.715693  1.013583         0.747959            0.628750   \n",
       "22946  1.715699  1.013583         0.856604            0.367720   \n",
       "22947  1.715704  1.013583         0.856604            0.083991   \n",
       "22948  1.715710  1.013583         0.680055            0.265577   \n",
       "22949  1.715715  1.013583         0.422023            0.197483   \n",
       "\n",
       "       BUDAPEST_temp_mean  DEBILT_temp_mean  DUSSELDORF_temp_mean  \\\n",
       "0               -1.099163         -0.114356             -0.105836   \n",
       "1               -1.110927         -0.367511             -0.370915   \n",
       "2               -1.063873         -0.509912             -0.532908   \n",
       "3               -1.146217         -0.525734             -0.577088   \n",
       "4               -1.087400         -0.320045             -0.444548   \n",
       "...                   ...               ...                   ...   \n",
       "22945           -0.005167          0.898267              1.042841   \n",
       "22946           -0.005167          0.945734              1.278467   \n",
       "22947           -0.005167          0.914089              1.101748   \n",
       "22948           -0.005167          0.692578              0.880848   \n",
       "22949           -0.005167          0.439422              0.659949   \n",
       "\n",
       "       GDANSK_temp_mean  HEATHROW_temp_mean  KASSEL_temp_mean  \\\n",
       "0             -0.927601           -0.106469         -0.182904   \n",
       "1             -0.825294           -0.892676         -0.212437   \n",
       "2             -0.940389           -0.490837         -0.389635   \n",
       "3             -1.042696           -0.316124         -0.493001   \n",
       "4             -0.978754           -0.403481         -0.552067   \n",
       "...                 ...                 ...               ...   \n",
       "22945          0.440753            0.906865         -0.005705   \n",
       "22946          0.466330            0.802037         -0.005705   \n",
       "22947          0.786039            0.924336         -0.005705   \n",
       "22948          0.376811            0.697210         -0.005705   \n",
       "22949          0.159409            0.435140         -0.005705   \n",
       "\n",
       "       LJUBLJANA_temp_mean  MAASTRICHT_temp_mean  MADRID_temp_mean  \\\n",
       "0                -1.370824             -0.097084         -0.988280   \n",
       "1                -1.043881             -0.232112         -0.691740   \n",
       "2                -0.741156             -0.487164         -0.853490   \n",
       "3                -0.910682             -0.472161         -0.624345   \n",
       "4                -0.862246             -0.307127         -0.381721   \n",
       "...                    ...                   ...               ...   \n",
       "22945             0.481853              1.268193          0.683127   \n",
       "22946             0.263891              1.313202          0.561815   \n",
       "22947             0.300218              1.208181          0.548336   \n",
       "22948             0.397090              0.923123          0.103526   \n",
       "22949             0.348654              0.773092         -0.112140   \n",
       "\n",
       "       MUNCHENB_temp_mean  OSLO_temp_mean  ROMA_temp_mean  \\\n",
       "0               -0.265742       -0.186575       -1.280450   \n",
       "1               -0.353714       -0.368598       -0.539569   \n",
       "2               -0.403983       -0.550620       -0.876333   \n",
       "3               -0.642763       -0.417137       -0.775304   \n",
       "4               -0.906678       -0.332193       -0.926848   \n",
       "...                   ...             ...             ...   \n",
       "22945            0.664244        0.395898       -0.000746   \n",
       "22946            0.890456        0.541516       -0.000746   \n",
       "22947            1.053832        0.395898       -0.000746   \n",
       "22948            0.689378       -0.065226       -0.000746   \n",
       "22949            0.488300        0.335224       -0.000746   \n",
       "\n",
       "       SONNBLICK_temp_mean  STOCKHOLM_temp_mean  TOURS_temp_mean  \\\n",
       "0                -0.124331            -0.391072        -0.257321   \n",
       "1                -0.650834            -0.415953        -0.335759   \n",
       "2                -0.650834            -0.615003        -0.210258   \n",
       "3                -0.943336            -0.764290        -0.069069   \n",
       "4                -0.621584            -0.503037        -0.037694   \n",
       "...                    ...                  ...              ...   \n",
       "22945             0.826301             0.517090         1.295755   \n",
       "22946             1.074927             0.641496         1.358505   \n",
       "22947             1.221178             0.716139         1.405568   \n",
       "22948             1.235803             0.019467         0.668249   \n",
       "22949             0.987177             0.293160         0.809438   \n",
       "\n",
       "       VALENTIA_temp_mean  \n",
       "0               -0.668215  \n",
       "1               -0.548046  \n",
       "2               -0.067372  \n",
       "3               -0.998679  \n",
       "4               -1.509396  \n",
       "...                   ...  \n",
       "22945           -0.007287  \n",
       "22946           -0.007287  \n",
       "22947           -0.007287  \n",
       "22948           -0.007287  \n",
       "22949           -0.007287  \n",
       "\n",
       "[22950 rows x 20 columns]"
      ]
     },
     "execution_count": 11,
     "metadata": {},
     "output_type": "execute_result"
    }
   ],
   "source": [
    "df"
   ]
  },
  {
   "cell_type": "code",
   "execution_count": 13,
   "id": "9d6623bc-dc38-4432-9bfc-080a6baae740",
   "metadata": {},
   "outputs": [],
   "source": [
    "#Drop the DATE and MONTH data as those numbers are not scaled with the rest.\n",
    "notemp = df.drop(['DATE','MONTH'], axis=1)"
   ]
  },
  {
   "cell_type": "code",
   "execution_count": 15,
   "id": "4d36df53-080d-46e7-86c5-ddd1576b5cdd",
   "metadata": {},
   "outputs": [
    {
     "data": {
      "image/png": "[encoded data removed]",
      "text/plain": [
       "<Figure size 1500x1500 with 1 Axes>"
      ]
     },
     "metadata": {},
     "output_type": "display_data"
    }
   ],
   "source": [
    "#Look at a whisker plot of the data to see variations in temperatures\n",
    "notemp.boxplot(figsize=(15,15))\n",
    "plt.xticks(rotation=90)\n",
    "plt.show()"
   ]
  },
  {
   "cell_type": "code",
   "execution_count": 33,
   "id": "9d6f31f0-b90a-4ac3-a722-73109e52413e",
   "metadata": {},
   "outputs": [
    {
     "name": "stderr",
     "output_type": "stream",
     "text": [
      "C:\\Users\\samco\\AppData\\Local\\Temp\\ipykernel_12536\\2113437849.py:3: SettingWithCopyWarning:\n",
      "\n",
      "\n",
      "A value is trying to be set on a copy of a slice from a DataFrame.\n",
      "Try using .loc[row_indexer,col_indexer] = value instead\n",
      "\n",
      "See the caveats in the documentation: https://pandas.pydata.org/pandas-docs/stable/user_guide/indexing.html#returning-a-view-versus-a-copy\n",
      "\n"
     ]
    },
    {
     "ename": "AttributeError",
     "evalue": "Can only use .dt accessor with datetimelike values",
     "output_type": "error",
     "traceback": [
      "\u001b[1;31m---------------------------------------------------------------------------\u001b[0m",
      "\u001b[1;31mAttributeError\u001b[0m                            Traceback (most recent call last)",
      "Cell \u001b[1;32mIn[33], line 4\u001b[0m\n\u001b[0;32m      1\u001b[0m \u001b[38;5;66;03m#Reduce your dataset to a single year\u001b[39;00m\n\u001b[0;32m      3\u001b[0m dfyear[\u001b[38;5;124m'\u001b[39m\u001b[38;5;124mDATE\u001b[39m\u001b[38;5;124m'\u001b[39m] \u001b[38;5;241m=\u001b[39m pd\u001b[38;5;241m.\u001b[39mto_datetime(df[\u001b[38;5;124m'\u001b[39m\u001b[38;5;124mDATE\u001b[39m\u001b[38;5;124m'\u001b[39m], errors\u001b[38;5;241m=\u001b[39m\u001b[38;5;124m'\u001b[39m\u001b[38;5;124mcoerce\u001b[39m\u001b[38;5;124m'\u001b[39m)\n\u001b[1;32m----> 4\u001b[0m dfyear[\u001b[38;5;124m'\u001b[39m\u001b[38;5;124mDATE\u001b[39m\u001b[38;5;124m'\u001b[39m] \u001b[38;5;241m=\u001b[39m df[\u001b[38;5;124m'\u001b[39m\u001b[38;5;124mDATE\u001b[39m\u001b[38;5;124m'\u001b[39m]\u001b[38;5;241m.\u001b[39mdt\u001b[38;5;241m.\u001b[39mstrftime(\u001b[38;5;124m'\u001b[39m\u001b[38;5;124m%\u001b[39m\u001b[38;5;124mm/\u001b[39m\u001b[38;5;132;01m%d\u001b[39;00m\u001b[38;5;124m'\u001b[39m)\n",
      "File \u001b[1;32m~\\anaconda3\\Lib\\site-packages\\pandas\\core\\generic.py:6299\u001b[0m, in \u001b[0;36mNDFrame.__getattr__\u001b[1;34m(self, name)\u001b[0m\n\u001b[0;32m   6292\u001b[0m \u001b[38;5;28;01mif\u001b[39;00m (\n\u001b[0;32m   6293\u001b[0m     name \u001b[38;5;129;01mnot\u001b[39;00m \u001b[38;5;129;01min\u001b[39;00m \u001b[38;5;28mself\u001b[39m\u001b[38;5;241m.\u001b[39m_internal_names_set\n\u001b[0;32m   6294\u001b[0m     \u001b[38;5;129;01mand\u001b[39;00m name \u001b[38;5;129;01mnot\u001b[39;00m \u001b[38;5;129;01min\u001b[39;00m \u001b[38;5;28mself\u001b[39m\u001b[38;5;241m.\u001b[39m_metadata\n\u001b[0;32m   6295\u001b[0m     \u001b[38;5;129;01mand\u001b[39;00m name \u001b[38;5;129;01mnot\u001b[39;00m \u001b[38;5;129;01min\u001b[39;00m \u001b[38;5;28mself\u001b[39m\u001b[38;5;241m.\u001b[39m_accessors\n\u001b[0;32m   6296\u001b[0m     \u001b[38;5;129;01mand\u001b[39;00m \u001b[38;5;28mself\u001b[39m\u001b[38;5;241m.\u001b[39m_info_axis\u001b[38;5;241m.\u001b[39m_can_hold_identifiers_and_holds_name(name)\n\u001b[0;32m   6297\u001b[0m ):\n\u001b[0;32m   6298\u001b[0m     \u001b[38;5;28;01mreturn\u001b[39;00m \u001b[38;5;28mself\u001b[39m[name]\n\u001b[1;32m-> 6299\u001b[0m \u001b[38;5;28;01mreturn\u001b[39;00m \u001b[38;5;28mobject\u001b[39m\u001b[38;5;241m.\u001b[39m\u001b[38;5;21m__getattribute__\u001b[39m(\u001b[38;5;28mself\u001b[39m, name)\n",
      "File \u001b[1;32m~\\anaconda3\\Lib\\site-packages\\pandas\\core\\accessor.py:224\u001b[0m, in \u001b[0;36mCachedAccessor.__get__\u001b[1;34m(self, obj, cls)\u001b[0m\n\u001b[0;32m    221\u001b[0m \u001b[38;5;28;01mif\u001b[39;00m obj \u001b[38;5;129;01mis\u001b[39;00m \u001b[38;5;28;01mNone\u001b[39;00m:\n\u001b[0;32m    222\u001b[0m     \u001b[38;5;66;03m# we're accessing the attribute of the class, i.e., Dataset.geo\u001b[39;00m\n\u001b[0;32m    223\u001b[0m     \u001b[38;5;28;01mreturn\u001b[39;00m \u001b[38;5;28mself\u001b[39m\u001b[38;5;241m.\u001b[39m_accessor\n\u001b[1;32m--> 224\u001b[0m accessor_obj \u001b[38;5;241m=\u001b[39m \u001b[38;5;28mself\u001b[39m\u001b[38;5;241m.\u001b[39m_accessor(obj)\n\u001b[0;32m    225\u001b[0m \u001b[38;5;66;03m# Replace the property with the accessor object. Inspired by:\u001b[39;00m\n\u001b[0;32m    226\u001b[0m \u001b[38;5;66;03m# https://www.pydanny.com/cached-property.html\u001b[39;00m\n\u001b[0;32m    227\u001b[0m \u001b[38;5;66;03m# We need to use object.__setattr__ because we overwrite __setattr__ on\u001b[39;00m\n\u001b[0;32m    228\u001b[0m \u001b[38;5;66;03m# NDFrame\u001b[39;00m\n\u001b[0;32m    229\u001b[0m \u001b[38;5;28mobject\u001b[39m\u001b[38;5;241m.\u001b[39m\u001b[38;5;21m__setattr__\u001b[39m(obj, \u001b[38;5;28mself\u001b[39m\u001b[38;5;241m.\u001b[39m_name, accessor_obj)\n",
      "File \u001b[1;32m~\\anaconda3\\Lib\\site-packages\\pandas\\core\\indexes\\accessors.py:643\u001b[0m, in \u001b[0;36mCombinedDatetimelikeProperties.__new__\u001b[1;34m(cls, data)\u001b[0m\n\u001b[0;32m    640\u001b[0m \u001b[38;5;28;01melif\u001b[39;00m \u001b[38;5;28misinstance\u001b[39m(data\u001b[38;5;241m.\u001b[39mdtype, PeriodDtype):\n\u001b[0;32m    641\u001b[0m     \u001b[38;5;28;01mreturn\u001b[39;00m PeriodProperties(data, orig)\n\u001b[1;32m--> 643\u001b[0m \u001b[38;5;28;01mraise\u001b[39;00m \u001b[38;5;167;01mAttributeError\u001b[39;00m(\u001b[38;5;124m\"\u001b[39m\u001b[38;5;124mCan only use .dt accessor with datetimelike values\u001b[39m\u001b[38;5;124m\"\u001b[39m)\n",
      "\u001b[1;31mAttributeError\u001b[0m: Can only use .dt accessor with datetimelike values"
     ]
    }
   ],
   "source": [
    "#Reduce your dataset to a single year\n",
    "\n",
    "dfyear['DATE'] = pd.to_datetime(df['DATE'], errors='coerce')\n",
    "dfyear['DATE'] = df['DATE'].dt.strftime('%m/%d')\n"
   ]
  },
  {
   "cell_type": "code",
   "execution_count": 47,
   "id": "5c379c42-57eb-4803-a14a-a8ffabe36d0b",
   "metadata": {},
   "outputs": [
    {
     "data": {
      "text/html": [
       "<div>\n",
       "<style scoped>\n",
       "    .dataframe tbody tr th:only-of-type {\n",
       "        vertical-align: middle;\n",
       "    }\n",
       "\n",
       "    .dataframe tbody tr th {\n",
       "        vertical-align: top;\n",
       "    }\n",
       "\n",
       "    .dataframe thead th {\n",
       "        text-align: right;\n",
       "    }\n",
       "</style>\n",
       "<table border=\"1\" class=\"dataframe\">\n",
       "  <thead>\n",
       "    <tr style=\"text-align: right;\">\n",
       "      <th></th>\n",
       "      <th>DATE</th>\n",
       "      <th>MONTH</th>\n",
       "      <th>BASEL_temp_mean</th>\n",
       "      <th>BELGRADE_temp_mean</th>\n",
       "      <th>BUDAPEST_temp_mean</th>\n",
       "      <th>DEBILT_temp_mean</th>\n",
       "      <th>DUSSELDORF_temp_mean</th>\n",
       "      <th>GDANSK_temp_mean</th>\n",
       "      <th>HEATHROW_temp_mean</th>\n",
       "      <th>KASSEL_temp_mean</th>\n",
       "      <th>LJUBLJANA_temp_mean</th>\n",
       "      <th>MAASTRICHT_temp_mean</th>\n",
       "      <th>MADRID_temp_mean</th>\n",
       "      <th>MUNCHENB_temp_mean</th>\n",
       "      <th>OSLO_temp_mean</th>\n",
       "      <th>ROMA_temp_mean</th>\n",
       "      <th>SONNBLICK_temp_mean</th>\n",
       "      <th>STOCKHOLM_temp_mean</th>\n",
       "      <th>TOURS_temp_mean</th>\n",
       "      <th>VALENTIA_temp_mean</th>\n",
       "    </tr>\n",
       "  </thead>\n",
       "  <tbody>\n",
       "    <tr>\n",
       "      <th>count</th>\n",
       "      <td>17.000000</td>\n",
       "      <td>17.000000</td>\n",
       "      <td>17.000000</td>\n",
       "      <td>17.000000</td>\n",
       "      <td>17.000000</td>\n",
       "      <td>17.000000</td>\n",
       "      <td>17.000000</td>\n",
       "      <td>17.000000</td>\n",
       "      <td>17.000000</td>\n",
       "      <td>17.000000</td>\n",
       "      <td>17.000000</td>\n",
       "      <td>17.000000</td>\n",
       "      <td>17.000000</td>\n",
       "      <td>17.000000</td>\n",
       "      <td>17.000000</td>\n",
       "      <td>17.000000</td>\n",
       "      <td>17.000000</td>\n",
       "      <td>17.000000</td>\n",
       "      <td>17.000000</td>\n",
       "      <td>17.000000</td>\n",
       "    </tr>\n",
       "    <tr>\n",
       "      <th>mean</th>\n",
       "      <td>0.147897</td>\n",
       "      <td>0.330303</td>\n",
       "      <td>0.022592</td>\n",
       "      <td>0.002544</td>\n",
       "      <td>-0.050836</td>\n",
       "      <td>-0.006392</td>\n",
       "      <td>0.016308</td>\n",
       "      <td>-0.012857</td>\n",
       "      <td>-0.167105</td>\n",
       "      <td>0.051624</td>\n",
       "      <td>-0.095105</td>\n",
       "      <td>0.040591</td>\n",
       "      <td>-0.354763</td>\n",
       "      <td>0.070620</td>\n",
       "      <td>-0.038815</td>\n",
       "      <td>-0.025508</td>\n",
       "      <td>0.076980</td>\n",
       "      <td>-0.036882</td>\n",
       "      <td>-0.042308</td>\n",
       "      <td>-0.090345</td>\n",
       "    </tr>\n",
       "    <tr>\n",
       "      <th>std</th>\n",
       "      <td>0.987355</td>\n",
       "      <td>1.066685</td>\n",
       "      <td>0.695421</td>\n",
       "      <td>0.776466</td>\n",
       "      <td>0.827722</td>\n",
       "      <td>0.809726</td>\n",
       "      <td>0.874621</td>\n",
       "      <td>0.907006</td>\n",
       "      <td>0.864036</td>\n",
       "      <td>0.930348</td>\n",
       "      <td>0.807691</td>\n",
       "      <td>0.853498</td>\n",
       "      <td>0.699713</td>\n",
       "      <td>0.697808</td>\n",
       "      <td>1.061958</td>\n",
       "      <td>0.835235</td>\n",
       "      <td>0.917026</td>\n",
       "      <td>0.928753</td>\n",
       "      <td>0.672256</td>\n",
       "      <td>0.845430</td>\n",
       "    </tr>\n",
       "    <tr>\n",
       "      <th>min</th>\n",
       "      <td>-1.703186</td>\n",
       "      <td>-1.599964</td>\n",
       "      <td>-1.017527</td>\n",
       "      <td>-1.266557</td>\n",
       "      <td>-1.299141</td>\n",
       "      <td>-1.190268</td>\n",
       "      <td>-1.107247</td>\n",
       "      <td>-1.260098</td>\n",
       "      <td>-1.364400</td>\n",
       "      <td>-1.068895</td>\n",
       "      <td>-1.334497</td>\n",
       "      <td>-1.087286</td>\n",
       "      <td>-1.419611</td>\n",
       "      <td>-0.956948</td>\n",
       "      <td>-2.188825</td>\n",
       "      <td>-1.549861</td>\n",
       "      <td>-1.747716</td>\n",
       "      <td>-1.473403</td>\n",
       "      <td>-0.759325</td>\n",
       "      <td>-1.269058</td>\n",
       "    </tr>\n",
       "    <tr>\n",
       "      <th>25%</th>\n",
       "      <td>-0.383256</td>\n",
       "      <td>-0.438387</td>\n",
       "      <td>-0.515042</td>\n",
       "      <td>-0.483466</td>\n",
       "      <td>-0.593337</td>\n",
       "      <td>-0.589023</td>\n",
       "      <td>-0.709628</td>\n",
       "      <td>-0.492797</td>\n",
       "      <td>-0.945090</td>\n",
       "      <td>-0.684966</td>\n",
       "      <td>-0.644284</td>\n",
       "      <td>-0.622191</td>\n",
       "      <td>-0.840010</td>\n",
       "      <td>-0.328579</td>\n",
       "      <td>-0.659834</td>\n",
       "      <td>-0.472216</td>\n",
       "      <td>-0.606959</td>\n",
       "      <td>-0.652324</td>\n",
       "      <td>-0.571074</td>\n",
       "      <td>-0.668215</td>\n",
       "    </tr>\n",
       "    <tr>\n",
       "      <th>50%</th>\n",
       "      <td>0.282696</td>\n",
       "      <td>0.723189</td>\n",
       "      <td>-0.026139</td>\n",
       "      <td>0.106689</td>\n",
       "      <td>-0.063984</td>\n",
       "      <td>-0.082711</td>\n",
       "      <td>-0.179469</td>\n",
       "      <td>-0.019628</td>\n",
       "      <td>-0.228768</td>\n",
       "      <td>-0.241970</td>\n",
       "      <td>-0.038834</td>\n",
       "      <td>-0.217109</td>\n",
       "      <td>-0.556950</td>\n",
       "      <td>-0.001827</td>\n",
       "      <td>0.031853</td>\n",
       "      <td>-0.000746</td>\n",
       "      <td>-0.007330</td>\n",
       "      <td>0.081670</td>\n",
       "      <td>-0.414197</td>\n",
       "      <td>-0.007287</td>\n",
       "    </tr>\n",
       "    <tr>\n",
       "      <th>75%</th>\n",
       "      <td>0.941062</td>\n",
       "      <td>1.303977</td>\n",
       "      <td>0.584991</td>\n",
       "      <td>0.322323</td>\n",
       "      <td>0.418316</td>\n",
       "      <td>0.550178</td>\n",
       "      <td>0.836668</td>\n",
       "      <td>0.543060</td>\n",
       "      <td>0.103186</td>\n",
       "      <td>0.791687</td>\n",
       "      <td>0.336545</td>\n",
       "      <td>0.638065</td>\n",
       "      <td>-0.017786</td>\n",
       "      <td>0.236953</td>\n",
       "      <td>0.687135</td>\n",
       "      <td>0.571753</td>\n",
       "      <td>0.782425</td>\n",
       "      <td>0.554412</td>\n",
       "      <td>0.511373</td>\n",
       "      <td>0.323176</td>\n",
       "    </tr>\n",
       "    <tr>\n",
       "      <th>max</th>\n",
       "      <td>1.715087</td>\n",
       "      <td>1.594371</td>\n",
       "      <td>1.494895</td>\n",
       "      <td>1.366445</td>\n",
       "      <td>1.418205</td>\n",
       "      <td>1.784312</td>\n",
       "      <td>1.867532</td>\n",
       "      <td>1.873049</td>\n",
       "      <td>1.885256</td>\n",
       "      <td>2.342173</td>\n",
       "      <td>1.377920</td>\n",
       "      <td>1.898321</td>\n",
       "      <td>1.343602</td>\n",
       "      <td>1.719903</td>\n",
       "      <td>1.755002</td>\n",
       "      <td>1.295796</td>\n",
       "      <td>1.645306</td>\n",
       "      <td>1.922875</td>\n",
       "      <td>1.358505</td>\n",
       "      <td>1.735158</td>\n",
       "    </tr>\n",
       "  </tbody>\n",
       "</table>\n",
       "</div>"
      ],
      "text/plain": [
       "            DATE      MONTH  BASEL_temp_mean  BELGRADE_temp_mean  \\\n",
       "count  17.000000  17.000000        17.000000           17.000000   \n",
       "mean    0.147897   0.330303         0.022592            0.002544   \n",
       "std     0.987355   1.066685         0.695421            0.776466   \n",
       "min    -1.703186  -1.599964        -1.017527           -1.266557   \n",
       "25%    -0.383256  -0.438387        -0.515042           -0.483466   \n",
       "50%     0.282696   0.723189        -0.026139            0.106689   \n",
       "75%     0.941062   1.303977         0.584991            0.322323   \n",
       "max     1.715087   1.594371         1.494895            1.366445   \n",
       "\n",
       "       BUDAPEST_temp_mean  DEBILT_temp_mean  DUSSELDORF_temp_mean  \\\n",
       "count           17.000000         17.000000             17.000000   \n",
       "mean            -0.050836         -0.006392              0.016308   \n",
       "std              0.827722          0.809726              0.874621   \n",
       "min             -1.299141         -1.190268             -1.107247   \n",
       "25%             -0.593337         -0.589023             -0.709628   \n",
       "50%             -0.063984         -0.082711             -0.179469   \n",
       "75%              0.418316          0.550178              0.836668   \n",
       "max              1.418205          1.784312              1.867532   \n",
       "\n",
       "       GDANSK_temp_mean  HEATHROW_temp_mean  KASSEL_temp_mean  \\\n",
       "count         17.000000           17.000000         17.000000   \n",
       "mean          -0.012857           -0.167105          0.051624   \n",
       "std            0.907006            0.864036          0.930348   \n",
       "min           -1.260098           -1.364400         -1.068895   \n",
       "25%           -0.492797           -0.945090         -0.684966   \n",
       "50%           -0.019628           -0.228768         -0.241970   \n",
       "75%            0.543060            0.103186          0.791687   \n",
       "max            1.873049            1.885256          2.342173   \n",
       "\n",
       "       LJUBLJANA_temp_mean  MAASTRICHT_temp_mean  MADRID_temp_mean  \\\n",
       "count            17.000000             17.000000         17.000000   \n",
       "mean             -0.095105              0.040591         -0.354763   \n",
       "std               0.807691              0.853498          0.699713   \n",
       "min              -1.334497             -1.087286         -1.419611   \n",
       "25%              -0.644284             -0.622191         -0.840010   \n",
       "50%              -0.038834             -0.217109         -0.556950   \n",
       "75%               0.336545              0.638065         -0.017786   \n",
       "max               1.377920              1.898321          1.343602   \n",
       "\n",
       "       MUNCHENB_temp_mean  OSLO_temp_mean  ROMA_temp_mean  \\\n",
       "count           17.000000       17.000000       17.000000   \n",
       "mean             0.070620       -0.038815       -0.025508   \n",
       "std              0.697808        1.061958        0.835235   \n",
       "min             -0.956948       -2.188825       -1.549861   \n",
       "25%             -0.328579       -0.659834       -0.472216   \n",
       "50%             -0.001827        0.031853       -0.000746   \n",
       "75%              0.236953        0.687135        0.571753   \n",
       "max              1.719903        1.755002        1.295796   \n",
       "\n",
       "       SONNBLICK_temp_mean  STOCKHOLM_temp_mean  TOURS_temp_mean  \\\n",
       "count            17.000000            17.000000        17.000000   \n",
       "mean              0.076980            -0.036882        -0.042308   \n",
       "std               0.917026             0.928753         0.672256   \n",
       "min              -1.747716            -1.473403        -0.759325   \n",
       "25%              -0.606959            -0.652324        -0.571074   \n",
       "50%              -0.007330             0.081670        -0.414197   \n",
       "75%               0.782425             0.554412         0.511373   \n",
       "max               1.645306             1.922875         1.358505   \n",
       "\n",
       "       VALENTIA_temp_mean  \n",
       "count           17.000000  \n",
       "mean            -0.090345  \n",
       "std              0.845430  \n",
       "min             -1.269058  \n",
       "25%             -0.668215  \n",
       "50%             -0.007287  \n",
       "75%              0.323176  \n",
       "max              1.735158  "
      ]
     },
     "execution_count": 47,
     "metadata": {},
     "output_type": "execute_result"
    }
   ],
   "source": [
    "dfyear.describe()"
   ]
  },
  {
   "cell_type": "code",
   "execution_count": null,
   "id": "6dbea98e-6111-41ec-b6a2-cfcb80380c71",
   "metadata": {},
   "outputs": [],
   "source": [
    "#Pick which weather station you want to use. Below is a 3D visualization of the temperatures for that year."
   ]
  },
  {
   "cell_type": "code",
   "execution_count": 49,
   "id": "cd01b29d-b883-4100-ae9e-c2768b25dc36",
   "metadata": {},
   "outputs": [],
   "source": [
    "#Drop the DATE and MONTH data as those numbers are not scaled with the rest.\n",
    "notempyear = dfyear.drop(['DATE','MONTH'], axis=1)"
   ]
  },
  {
   "cell_type": "code",
   "execution_count": 51,
   "id": "199b5daf-8a34-4554-8fec-6fda048c2e2a",
   "metadata": {},
   "outputs": [
    {
     "data": {
      "application/vnd.plotly.v1+json": {
       "config": {
        "plotlyServerURL": "https://plot.ly"
       },
       "data": [
        {
         "type": "surface",
         "z": [
          [
           0.720797272663881,
           0.2428791582973508,
           0.5006596661548414,
           0.8191558754822257,
           1.0575676805003562,
           0.7476734906159542,
           0.8544509511245312,
           0.9393527660187544,
           0.360763337914801,
           1.0431472884398354,
           1.343602144808777,
           0.7145130402028786,
           1.0147755772354443,
           0.8074879100650383,
           1.1480527245711187,
           0.9400697478847256,
           0.5113730298824414,
           1.1042727469430869
          ],
          [
           -1.0175266016507496,
           -1.266557360101327,
           -1.1109265714863072,
           -1.190267521074746,
           -1.1072467925916472,
           -1.1577912701457425,
           -1.1198026301480009,
           -1.0688954572200764,
           -1.3344970642506948,
           -1.0872856702574183,
           -0.6782613447219172,
           -0.9569478344690144,
           -2.188825454321139,
           -1.5498614720705848,
           -1.747716017490498,
           -1.47340250262857,
           -0.7593250983239419,
           -0.4278776599042959
          ],
          [
           -0.0261387670806868,
           -0.4834662340147948,
           -0.5933368309300259,
           0.0596887649725042,
           -0.1794691612665027,
           0.1338324938605082,
           -0.2637103692422129,
           -0.3453354356119684,
           -0.3778858373144507,
           -0.0520752889186118,
           -0.0177859381418903,
           0.1866832903064914,
           0.2624147289153377,
           -0.4722160402371571,
           0.6215493169235522,
           0.2185161884529155,
           -0.4141972116506032,
           0.1729656368985993
          ],
          [
           1.494894622944615,
           1.03731943113876,
           1.4182051153227946,
           1.7843119950883304,
           1.867532279276276,
           1.873048651334272,
           1.8852559183376227,
           2.3421732160752904,
           1.3779195792140988,
           1.8983210817197187,
           0.1304840510903605,
           1.719903040005521,
           1.7550015731632913,
           1.2957959963645609,
           1.2065531031986263,
           1.922875458145295,
           1.3585051153533634,
           1.7351582085861268
          ],
          [
           -0.6372682541444241,
           -0.9941778379842724,
           -1.0285827491250803,
           -1.126978595198936,
           -1.0188870181797287,
           -1.260098102938317,
           -1.0499175476250795,
           -0.9507632087942628,
           -0.983335980944985,
           -0.8322338371739443,
           -0.9208849634656008,
           -0.9318130844739484,
           -0.8539916911725625,
           -1.0110387561538707,
           -0.8994605273916403,
           -1.1499474587453449,
           -0.6651993110493949,
           -1.1789317809079152
          ],
          [
           -0.5150423567316766,
           -1.0055269847391497,
           -1.2991410225976825,
           -0.5890227252545498,
           -0.8421674693558916,
           -0.7869290012726606,
           -0.9450899238406972,
           -0.8326309603684493,
           -1.1770800269067558,
           -0.7722216411543033,
           -0.8400104238843729,
           -0.4919549595602923,
           -0.659834052896406,
           -1.2467736943674332,
           -0.943335811362271,
           -0.4532750565353214,
           -0.7122622046866685,
           -0.9986787918670466
          ],
          [
           0.5849907199830505,
           1.366444687030201,
           1.3829149057394117,
           1.0406671160475616,
           1.013387793294397,
           1.6300699234519078,
           0.8719222217552611,
           1.1756172628703816,
           1.0751945073988316,
           0.983135092420194,
           0.0496095115091327,
           0.815052040183143,
           1.7185970159865125,
           0.9421935890442168,
           0.9579264940317198,
           1.2013218987134846,
           0.8565009165557801,
           0.3231764610993232
          ],
          [
           -0.7323328410210055,
           0.2201808647875962,
           -0.5227564117632603,
           -0.7314228084751225,
           -0.9894337600424224,
           -0.4160667323995787,
           -1.0149750063636187,
           -0.6849656498361824,
           -0.6442839005118857,
           -0.877242984188675,
           -0.6243449850010987,
           -0.5924939595405565,
           -1.387925196431993,
           0.5717529718514762,
           -0.4753327823422118,
           -1.3987590309632103,
           -0.5710735237748481,
           -1.1488896160677704
          ],
          [
           -0.2977518724423479,
           0.0272453699546825,
           0.0183601351819429,
           -0.5573782623166447,
           -0.1500159031291967,
           -0.4672201487958658,
           -1.364400418978226,
           -0.0500048145474342,
           0.1428012862078087,
           -0.247114925982445,
           -0.8400104238843729,
           0.2369527902966236,
           -1.0845538866254985,
           0.3191798237655166,
           -0.0804552266065366,
           -0.6896460501422937,
           -0.3671343180133297,
           -1.2690582754283497
          ],
          [
           -0.35207449351468,
           -1.028225278248904,
           -1.0403461523195414,
           -0.6997783455372175,
           -0.7096278077380138,
           -1.247309748839245,
           -0.420951804918786,
           -0.699732180889409,
           -0.9954449838175956,
           -0.622191151105201,
           -1.4196112908831715,
           -0.2531748346071646,
           -0.5020809717970287,
           -1.0615533857710628,
           -0.6362088235678571,
           -0.6274431570878273,
           -0.4141972116506032,
           -0.4879619895845857
          ],
          [
           -0.1212033539572681,
           0.0385945167095598,
           -0.0639836871792837,
           -0.2251114014686415,
           -0.4445484845022582,
           0.018737306968862,
           -0.2112965573500216,
           -0.6111329945700489,
           0.0822562718447553,
           -0.4271515140413679,
           -0.5569495353500755,
           -0.0395294596491032,
           0.0318525334624018,
           0.4875619224894897,
           0.548423843639168,
           0.0816698237330895,
           -0.4455724740754521,
           0.4133029556197571
          ],
          [
           0.0010225434554794,
           0.2201808647875962,
           -0.0639836871792837,
           -0.2884003273444517,
           -0.2678289356784212,
           -0.0196277553283531,
           -0.5956645112260899,
           -0.2419697182393814,
           -0.3294498258240079,
           -0.3221301710069962,
           -1.1500294922790792,
           -0.2531748346071646,
           0.189605614561779,
           -0.4048632007475677,
           -0.6069586342541032,
           0.1811944526202358,
           -0.4612601052878768,
           -0.6682149786254542
          ],
          [
           1.0603136543659577,
           1.1394617519326555,
           0.9123787779609742,
           0.7716891810753682,
           0.998661164225744,
           0.6070015955261646,
           0.714680786078688,
           1.0427184833913412,
           1.1115215160166634,
           1.2381869255036682,
           -0.39520045618762,
           0.9784279151510724,
           0.6871345626444303,
           0.8916789594270248,
           0.7824253581491976,
           0.6414958612232871,
           0.5584359235197146,
           0.9240197579022184
          ],
          [
           0.2590549935490575,
           0.3904180661107555,
           0.4183158437936149,
           -0.0827113182480686,
           0.1886965654498244,
           -0.4927968569940094,
           -0.1064689335656395,
           0.3339249928364598,
           0.3365453321695797,
           0.1729704461550416,
           -0.0717022978627089,
           0.1866832903064914,
           0.420167810014715,
           -0.0007461638100323,
           -0.2998316464596894,
           -0.1049388554303096,
           0.4643101362451677,
           -0.0072873521422696
          ],
          [
           0.6121520305192168,
           0.3223231855814917,
           0.3359720214323882,
           0.5501779405100328,
           0.83666824447056,
           0.1338324938605082,
           0.0507725021109338,
           0.7916874554864873,
           0.2154553034434728,
           0.6380649653072589,
           -0.3682422763272109,
           0.2118180403015574,
           -0.1259005476369753,
           -0.0007461638100323,
           1.645305942904932,
           0.1811944526202358,
           0.8408132853433554,
           -0.0072873521422696
          ],
          [
           -0.7730748068252546,
           -0.2905307391818812,
           -0.1228007031515884,
           -0.0194223923722584,
           -0.2089224194038088,
           -0.0579928176255686,
           -0.228767827980752,
           -0.2567362492926081,
           -0.4384308516775042,
           -0.2171088279726246,
           -0.5569495353500755,
           -0.3285790845923628,
           -0.6476992005041462,
           -0.0007461638100323,
           -0.0073297533221524,
           -0.6523243143096138,
           -0.6495116798369704,
           -0.0072873521422696
          ],
          [
           0.1232484408682269,
           0.1066893972388234,
           -0.005166671206979,
           0.3761333943515549,
           0.2328764526557837,
           0.5430598250308056,
           0.1031863140031251,
           -0.0057052213877543,
           -0.0388337568813514,
           0.1729704461550416,
           0.8853130871818197,
           -0.001827334656504,
           0.7114042674289499,
           -0.0007461638100323,
           0.0950459092759854,
           0.5544118109470342,
           0.1505575119966781,
           -0.0072873521422696
          ]
         ]
        }
       ],
       "layout": {
        "autosize": false,
        "height": 600,
        "scene": {
         "aspectmode": "auto",
         "aspectratio": {
          "x": 1.5856036679478167,
          "y": 1.4923328639508864,
          "z": 0.4226098888968976
         },
         "camera": {
          "center": {
           "x": 0,
           "y": 0,
           "z": 0
          },
          "eye": {
           "x": 1.6389664860565267,
           "y": 1.6389664860565265,
           "z": 1.6389664860565267
          },
          "projection": {
           "type": "perspective"
          },
          "up": {
           "x": 0,
           "y": 0,
           "z": 1
          }
         }
        },
        "template": {
         "data": {
          "bar": [
           {
            "error_x": {
             "color": "#2a3f5f"
            },
            "error_y": {
             "color": "#2a3f5f"
            },
            "marker": {
             "line": {
              "color": "#E5ECF6",
              "width": 0.5
             },
             "pattern": {
              "fillmode": "overlay",
              "size": 10,
              "solidity": 0.2
             }
            },
            "type": "bar"
           }
          ],
          "barpolar": [
           {
            "marker": {
             "line": {
              "color": "#E5ECF6",
              "width": 0.5
             },
             "pattern": {
              "fillmode": "overlay",
              "size": 10,
              "solidity": 0.2
             }
            },
            "type": "barpolar"
           }
          ],
          "carpet": [
           {
            "aaxis": {
             "endlinecolor": "#2a3f5f",
             "gridcolor": "white",
             "linecolor": "white",
             "minorgridcolor": "white",
             "startlinecolor": "#2a3f5f"
            },
            "baxis": {
             "endlinecolor": "#2a3f5f",
             "gridcolor": "white",
             "linecolor": "white",
             "minorgridcolor": "white",
             "startlinecolor": "#2a3f5f"
            },
            "type": "carpet"
           }
          ],
          "choropleth": [
           {
            "colorbar": {
             "outlinewidth": 0,
             "ticks": ""
            },
            "type": "choropleth"
           }
          ],
          "contour": [
           {
            "colorbar": {
             "outlinewidth": 0,
             "ticks": ""
            },
            "colorscale": [
             [
              0,
              "#0d0887"
             ],
             [
              0.1111111111111111,
              "#46039f"
             ],
             [
              0.2222222222222222,
              "#7201a8"
             ],
             [
              0.3333333333333333,
              "#9c179e"
             ],
             [
              0.4444444444444444,
              "#bd3786"
             ],
             [
              0.5555555555555556,
              "#d8576b"
             ],
             [
              0.6666666666666666,
              "#ed7953"
             ],
             [
              0.7777777777777778,
              "#fb9f3a"
             ],
             [
              0.8888888888888888,
              "#fdca26"
             ],
             [
              1,
              "#f0f921"
             ]
            ],
            "type": "contour"
           }
          ],
          "contourcarpet": [
           {
            "colorbar": {
             "outlinewidth": 0,
             "ticks": ""
            },
            "type": "contourcarpet"
           }
          ],
          "heatmap": [
           {
            "colorbar": {
             "outlinewidth": 0,
             "ticks": ""
            },
            "colorscale": [
             [
              0,
              "#0d0887"
             ],
             [
              0.1111111111111111,
              "#46039f"
             ],
             [
              0.2222222222222222,
              "#7201a8"
             ],
             [
              0.3333333333333333,
              "#9c179e"
             ],
             [
              0.4444444444444444,
              "#bd3786"
             ],
             [
              0.5555555555555556,
              "#d8576b"
             ],
             [
              0.6666666666666666,
              "#ed7953"
             ],
             [
              0.7777777777777778,
              "#fb9f3a"
             ],
             [
              0.8888888888888888,
              "#fdca26"
             ],
             [
              1,
              "#f0f921"
             ]
            ],
            "type": "heatmap"
           }
          ],
          "heatmapgl": [
           {
            "colorbar": {
             "outlinewidth": 0,
             "ticks": ""
            },
            "colorscale": [
             [
              0,
              "#0d0887"
             ],
             [
              0.1111111111111111,
              "#46039f"
             ],
             [
              0.2222222222222222,
              "#7201a8"
             ],
             [
              0.3333333333333333,
              "#9c179e"
             ],
             [
              0.4444444444444444,
              "#bd3786"
             ],
             [
              0.5555555555555556,
              "#d8576b"
             ],
             [
              0.6666666666666666,
              "#ed7953"
             ],
             [
              0.7777777777777778,
              "#fb9f3a"
             ],
             [
              0.8888888888888888,
              "#fdca26"
             ],
             [
              1,
              "#f0f921"
             ]
            ],
            "type": "heatmapgl"
           }
          ],
          "histogram": [
           {
            "marker": {
             "pattern": {
              "fillmode": "overlay",
              "size": 10,
              "solidity": 0.2
             }
            },
            "type": "histogram"
           }
          ],
          "histogram2d": [
           {
            "colorbar": {
             "outlinewidth": 0,
             "ticks": ""
            },
            "colorscale": [
             [
              0,
              "#0d0887"
             ],
             [
              0.1111111111111111,
              "#46039f"
             ],
             [
              0.2222222222222222,
              "#7201a8"
             ],
             [
              0.3333333333333333,
              "#9c179e"
             ],
             [
              0.4444444444444444,
              "#bd3786"
             ],
             [
              0.5555555555555556,
              "#d8576b"
             ],
             [
              0.6666666666666666,
              "#ed7953"
             ],
             [
              0.7777777777777778,
              "#fb9f3a"
             ],
             [
              0.8888888888888888,
              "#fdca26"
             ],
             [
              1,
              "#f0f921"
             ]
            ],
            "type": "histogram2d"
           }
          ],
          "histogram2dcontour": [
           {
            "colorbar": {
             "outlinewidth": 0,
             "ticks": ""
            },
            "colorscale": [
             [
              0,
              "#0d0887"
             ],
             [
              0.1111111111111111,
              "#46039f"
             ],
             [
              0.2222222222222222,
              "#7201a8"
             ],
             [
              0.3333333333333333,
              "#9c179e"
             ],
             [
              0.4444444444444444,
              "#bd3786"
             ],
             [
              0.5555555555555556,
              "#d8576b"
             ],
             [
              0.6666666666666666,
              "#ed7953"
             ],
             [
              0.7777777777777778,
              "#fb9f3a"
             ],
             [
              0.8888888888888888,
              "#fdca26"
             ],
             [
              1,
              "#f0f921"
             ]
            ],
            "type": "histogram2dcontour"
           }
          ],
          "mesh3d": [
           {
            "colorbar": {
             "outlinewidth": 0,
             "ticks": ""
            },
            "type": "mesh3d"
           }
          ],
          "parcoords": [
           {
            "line": {
             "colorbar": {
              "outlinewidth": 0,
              "ticks": ""
             }
            },
            "type": "parcoords"
           }
          ],
          "pie": [
           {
            "automargin": true,
            "type": "pie"
           }
          ],
          "scatter": [
           {
            "fillpattern": {
             "fillmode": "overlay",
             "size": 10,
             "solidity": 0.2
            },
            "type": "scatter"
           }
          ],
          "scatter3d": [
           {
            "line": {
             "colorbar": {
              "outlinewidth": 0,
              "ticks": ""
             }
            },
            "marker": {
             "colorbar": {
              "outlinewidth": 0,
              "ticks": ""
             }
            },
            "type": "scatter3d"
           }
          ],
          "scattercarpet": [
           {
            "marker": {
             "colorbar": {
              "outlinewidth": 0,
              "ticks": ""
             }
            },
            "type": "scattercarpet"
           }
          ],
          "scattergeo": [
           {
            "marker": {
             "colorbar": {
              "outlinewidth": 0,
              "ticks": ""
             }
            },
            "type": "scattergeo"
           }
          ],
          "scattergl": [
           {
            "marker": {
             "colorbar": {
              "outlinewidth": 0,
              "ticks": ""
             }
            },
            "type": "scattergl"
           }
          ],
          "scattermapbox": [
           {
            "marker": {
             "colorbar": {
              "outlinewidth": 0,
              "ticks": ""
             }
            },
            "type": "scattermapbox"
           }
          ],
          "scatterpolar": [
           {
            "marker": {
             "colorbar": {
              "outlinewidth": 0,
              "ticks": ""
             }
            },
            "type": "scatterpolar"
           }
          ],
          "scatterpolargl": [
           {
            "marker": {
             "colorbar": {
              "outlinewidth": 0,
              "ticks": ""
             }
            },
            "type": "scatterpolargl"
           }
          ],
          "scatterternary": [
           {
            "marker": {
             "colorbar": {
              "outlinewidth": 0,
              "ticks": ""
             }
            },
            "type": "scatterternary"
           }
          ],
          "surface": [
           {
            "colorbar": {
             "outlinewidth": 0,
             "ticks": ""
            },
            "colorscale": [
             [
              0,
              "#0d0887"
             ],
             [
              0.1111111111111111,
              "#46039f"
             ],
             [
              0.2222222222222222,
              "#7201a8"
             ],
             [
              0.3333333333333333,
              "#9c179e"
             ],
             [
              0.4444444444444444,
              "#bd3786"
             ],
             [
              0.5555555555555556,
              "#d8576b"
             ],
             [
              0.6666666666666666,
              "#ed7953"
             ],
             [
              0.7777777777777778,
              "#fb9f3a"
             ],
             [
              0.8888888888888888,
              "#fdca26"
             ],
             [
              1,
              "#f0f921"
             ]
            ],
            "type": "surface"
           }
          ],
          "table": [
           {
            "cells": {
             "fill": {
              "color": "#EBF0F8"
             },
             "line": {
              "color": "white"
             }
            },
            "header": {
             "fill": {
              "color": "#C8D4E3"
             },
             "line": {
              "color": "white"
             }
            },
            "type": "table"
           }
          ]
         },
         "layout": {
          "annotationdefaults": {
           "arrowcolor": "#2a3f5f",
           "arrowhead": 0,
           "arrowwidth": 1
          },
          "autotypenumbers": "strict",
          "coloraxis": {
           "colorbar": {
            "outlinewidth": 0,
            "ticks": ""
           }
          },
          "colorscale": {
           "diverging": [
            [
             0,
             "#8e0152"
            ],
            [
             0.1,
             "#c51b7d"
            ],
            [
             0.2,
             "#de77ae"
            ],
            [
             0.3,
             "#f1b6da"
            ],
            [
             0.4,
             "#fde0ef"
            ],
            [
             0.5,
             "#f7f7f7"
            ],
            [
             0.6,
             "#e6f5d0"
            ],
            [
             0.7,
             "#b8e186"
            ],
            [
             0.8,
             "#7fbc41"
            ],
            [
             0.9,
             "#4d9221"
            ],
            [
             1,
             "#276419"
            ]
           ],
           "sequential": [
            [
             0,
             "#0d0887"
            ],
            [
             0.1111111111111111,
             "#46039f"
            ],
            [
             0.2222222222222222,
             "#7201a8"
            ],
            [
             0.3333333333333333,
             "#9c179e"
            ],
            [
             0.4444444444444444,
             "#bd3786"
            ],
            [
             0.5555555555555556,
             "#d8576b"
            ],
            [
             0.6666666666666666,
             "#ed7953"
            ],
            [
             0.7777777777777778,
             "#fb9f3a"
            ],
            [
             0.8888888888888888,
             "#fdca26"
            ],
            [
             1,
             "#f0f921"
            ]
           ],
           "sequentialminus": [
            [
             0,
             "#0d0887"
            ],
            [
             0.1111111111111111,
             "#46039f"
            ],
            [
             0.2222222222222222,
             "#7201a8"
            ],
            [
             0.3333333333333333,
             "#9c179e"
            ],
            [
             0.4444444444444444,
             "#bd3786"
            ],
            [
             0.5555555555555556,
             "#d8576b"
            ],
            [
             0.6666666666666666,
             "#ed7953"
            ],
            [
             0.7777777777777778,
             "#fb9f3a"
            ],
            [
             0.8888888888888888,
             "#fdca26"
            ],
            [
             1,
             "#f0f921"
            ]
           ]
          },
          "colorway": [
           "#636efa",
           "#EF553B",
           "#00cc96",
           "#ab63fa",
           "#FFA15A",
           "#19d3f3",
           "#FF6692",
           "#B6E880",
           "#FF97FF",
           "#FECB52"
          ],
          "font": {
           "color": "#2a3f5f"
          },
          "geo": {
           "bgcolor": "white",
           "lakecolor": "white",
           "landcolor": "#E5ECF6",
           "showlakes": true,
           "showland": true,
           "subunitcolor": "white"
          },
          "hoverlabel": {
           "align": "left"
          },
          "hovermode": "closest",
          "mapbox": {
           "style": "light"
          },
          "paper_bgcolor": "white",
          "plot_bgcolor": "#E5ECF6",
          "polar": {
           "angularaxis": {
            "gridcolor": "white",
            "linecolor": "white",
            "ticks": ""
           },
           "bgcolor": "#E5ECF6",
           "radialaxis": {
            "gridcolor": "white",
            "linecolor": "white",
            "ticks": ""
           }
          },
          "scene": {
           "xaxis": {
            "backgroundcolor": "#E5ECF6",
            "gridcolor": "white",
            "gridwidth": 2,
            "linecolor": "white",
            "showbackground": true,
            "ticks": "",
            "zerolinecolor": "white"
           },
           "yaxis": {
            "backgroundcolor": "#E5ECF6",
            "gridcolor": "white",
            "gridwidth": 2,
            "linecolor": "white",
            "showbackground": true,
            "ticks": "",
            "zerolinecolor": "white"
           },
           "zaxis": {
            "backgroundcolor": "#E5ECF6",
            "gridcolor": "white",
            "gridwidth": 2,
            "linecolor": "white",
            "showbackground": true,
            "ticks": "",
            "zerolinecolor": "white"
           }
          },
          "shapedefaults": {
           "line": {
            "color": "#2a3f5f"
           }
          },
          "ternary": {
           "aaxis": {
            "gridcolor": "white",
            "linecolor": "white",
            "ticks": ""
           },
           "baxis": {
            "gridcolor": "white",
            "linecolor": "white",
            "ticks": ""
           },
           "bgcolor": "#E5ECF6",
           "caxis": {
            "gridcolor": "white",
            "linecolor": "white",
            "ticks": ""
           }
          },
          "title": {
           "x": 0.05
          },
          "xaxis": {
           "automargin": true,
           "gridcolor": "white",
           "linecolor": "white",
           "ticks": "",
           "title": {
            "standoff": 15
           },
           "zerolinecolor": "white",
           "zerolinewidth": 2
          },
          "yaxis": {
           "automargin": true,
           "gridcolor": "white",
           "linecolor": "white",
           "ticks": "",
           "title": {
            "standoff": 15
           },
           "zerolinecolor": "white",
           "zerolinewidth": 2
          }
         }
        },
        "title": {
         "text": "Temperatures over time"
        },
        "width": 600
       }
      },
      "image/png": "[encoded data removed]",
      "text/html": [
       "<div>                            <div id=\"e34a79d5-f72e-4ba7-8bf7-4780cea0960f\" class=\"plotly-graph-div\" style=\"height:600px; width:600px;\"></div>            <script type=\"text/javascript\">                require([\"plotly\"], function(Plotly) {                    window.PLOTLYENV=window.PLOTLYENV || {};                                    if (document.getElementById(\"e34a79d5-f72e-4ba7-8bf7-4780cea0960f\")) {                    Plotly.newPlot(                        \"e34a79d5-f72e-4ba7-8bf7-4780cea0960f\",                        [{\"z\":[[0.720797272663881,0.2428791582973508,0.5006596661548414,0.8191558754822257,1.0575676805003562,0.7476734906159542,0.8544509511245312,0.9393527660187544,0.360763337914801,1.0431472884398354,1.343602144808777,0.7145130402028786,1.0147755772354443,0.8074879100650383,1.1480527245711187,0.9400697478847256,0.5113730298824414,1.1042727469430869],[-1.0175266016507496,-1.266557360101327,-1.1109265714863072,-1.190267521074746,-1.1072467925916472,-1.1577912701457425,-1.1198026301480009,-1.0688954572200764,-1.3344970642506948,-1.0872856702574183,-0.6782613447219172,-0.9569478344690144,-2.188825454321139,-1.5498614720705848,-1.747716017490498,-1.47340250262857,-0.7593250983239419,-0.4278776599042959],[-0.0261387670806868,-0.4834662340147948,-0.5933368309300259,0.0596887649725042,-0.1794691612665027,0.1338324938605082,-0.2637103692422129,-0.3453354356119684,-0.3778858373144507,-0.0520752889186118,-0.0177859381418903,0.1866832903064914,0.2624147289153377,-0.4722160402371571,0.6215493169235522,0.2185161884529155,-0.4141972116506032,0.1729656368985993],[1.494894622944615,1.03731943113876,1.4182051153227946,1.7843119950883304,1.867532279276276,1.873048651334272,1.8852559183376227,2.3421732160752904,1.3779195792140988,1.8983210817197187,0.1304840510903605,1.719903040005521,1.7550015731632913,1.2957959963645609,1.2065531031986263,1.922875458145295,1.3585051153533634,1.7351582085861268],[-0.6372682541444241,-0.9941778379842724,-1.0285827491250803,-1.126978595198936,-1.0188870181797287,-1.260098102938317,-1.0499175476250795,-0.9507632087942628,-0.983335980944985,-0.8322338371739443,-0.9208849634656008,-0.9318130844739484,-0.8539916911725625,-1.0110387561538707,-0.8994605273916403,-1.1499474587453449,-0.6651993110493949,-1.1789317809079152],[-0.5150423567316766,-1.0055269847391497,-1.2991410225976825,-0.5890227252545498,-0.8421674693558916,-0.7869290012726606,-0.9450899238406972,-0.8326309603684493,-1.1770800269067558,-0.7722216411543033,-0.8400104238843729,-0.4919549595602923,-0.659834052896406,-1.2467736943674332,-0.943335811362271,-0.4532750565353214,-0.7122622046866685,-0.9986787918670466],[0.5849907199830505,1.366444687030201,1.3829149057394117,1.0406671160475616,1.013387793294397,1.6300699234519078,0.8719222217552611,1.1756172628703816,1.0751945073988316,0.983135092420194,0.0496095115091327,0.815052040183143,1.7185970159865125,0.9421935890442168,0.9579264940317198,1.2013218987134846,0.8565009165557801,0.3231764610993232],[-0.7323328410210055,0.2201808647875962,-0.5227564117632603,-0.7314228084751225,-0.9894337600424224,-0.4160667323995787,-1.0149750063636187,-0.6849656498361824,-0.6442839005118857,-0.877242984188675,-0.6243449850010987,-0.5924939595405565,-1.387925196431993,0.5717529718514762,-0.4753327823422118,-1.3987590309632103,-0.5710735237748481,-1.1488896160677704],[-0.2977518724423479,0.0272453699546825,0.0183601351819429,-0.5573782623166447,-0.1500159031291967,-0.4672201487958658,-1.364400418978226,-0.0500048145474342,0.1428012862078087,-0.247114925982445,-0.8400104238843729,0.2369527902966236,-1.0845538866254985,0.3191798237655166,-0.0804552266065366,-0.6896460501422937,-0.3671343180133297,-1.2690582754283497],[-0.35207449351468,-1.028225278248904,-1.0403461523195414,-0.6997783455372175,-0.7096278077380138,-1.247309748839245,-0.420951804918786,-0.699732180889409,-0.9954449838175956,-0.622191151105201,-1.4196112908831715,-0.2531748346071646,-0.5020809717970287,-1.0615533857710628,-0.6362088235678571,-0.6274431570878273,-0.4141972116506032,-0.4879619895845857],[-0.1212033539572681,0.0385945167095598,-0.0639836871792837,-0.2251114014686415,-0.4445484845022582,0.018737306968862,-0.2112965573500216,-0.6111329945700489,0.0822562718447553,-0.4271515140413679,-0.5569495353500755,-0.0395294596491032,0.0318525334624018,0.4875619224894897,0.548423843639168,0.0816698237330895,-0.4455724740754521,0.4133029556197571],[0.0010225434554794,0.2201808647875962,-0.0639836871792837,-0.2884003273444517,-0.2678289356784212,-0.0196277553283531,-0.5956645112260899,-0.2419697182393814,-0.3294498258240079,-0.3221301710069962,-1.1500294922790792,-0.2531748346071646,0.189605614561779,-0.4048632007475677,-0.6069586342541032,0.1811944526202358,-0.4612601052878768,-0.6682149786254542],[1.0603136543659577,1.1394617519326555,0.9123787779609742,0.7716891810753682,0.998661164225744,0.6070015955261646,0.714680786078688,1.0427184833913412,1.1115215160166634,1.2381869255036682,-0.39520045618762,0.9784279151510724,0.6871345626444303,0.8916789594270248,0.7824253581491976,0.6414958612232871,0.5584359235197146,0.9240197579022184],[0.2590549935490575,0.3904180661107555,0.4183158437936149,-0.0827113182480686,0.1886965654498244,-0.4927968569940094,-0.1064689335656395,0.3339249928364598,0.3365453321695797,0.1729704461550416,-0.0717022978627089,0.1866832903064914,0.420167810014715,-0.0007461638100323,-0.2998316464596894,-0.1049388554303096,0.4643101362451677,-0.0072873521422696],[0.6121520305192168,0.3223231855814917,0.3359720214323882,0.5501779405100328,0.83666824447056,0.1338324938605082,0.0507725021109338,0.7916874554864873,0.2154553034434728,0.6380649653072589,-0.3682422763272109,0.2118180403015574,-0.1259005476369753,-0.0007461638100323,1.645305942904932,0.1811944526202358,0.8408132853433554,-0.0072873521422696],[-0.7730748068252546,-0.2905307391818812,-0.1228007031515884,-0.0194223923722584,-0.2089224194038088,-0.0579928176255686,-0.228767827980752,-0.2567362492926081,-0.4384308516775042,-0.2171088279726246,-0.5569495353500755,-0.3285790845923628,-0.6476992005041462,-0.0007461638100323,-0.0073297533221524,-0.6523243143096138,-0.6495116798369704,-0.0072873521422696],[0.1232484408682269,0.1066893972388234,-0.005166671206979,0.3761333943515549,0.2328764526557837,0.5430598250308056,0.1031863140031251,-0.0057052213877543,-0.0388337568813514,0.1729704461550416,0.8853130871818197,-0.001827334656504,0.7114042674289499,-0.0007461638100323,0.0950459092759854,0.5544118109470342,0.1505575119966781,-0.0072873521422696]],\"type\":\"surface\"}],                        {\"template\":{\"data\":{\"histogram2dcontour\":[{\"type\":\"histogram2dcontour\",\"colorbar\":{\"outlinewidth\":0,\"ticks\":\"\"},\"colorscale\":[[0.0,\"#0d0887\"],[0.1111111111111111,\"#46039f\"],[0.2222222222222222,\"#7201a8\"],[0.3333333333333333,\"#9c179e\"],[0.4444444444444444,\"#bd3786\"],[0.5555555555555556,\"#d8576b\"],[0.6666666666666666,\"#ed7953\"],[0.7777777777777778,\"#fb9f3a\"],[0.8888888888888888,\"#fdca26\"],[1.0,\"#f0f921\"]]}],\"choropleth\":[{\"type\":\"choropleth\",\"colorbar\":{\"outlinewidth\":0,\"ticks\":\"\"}}],\"histogram2d\":[{\"type\":\"histogram2d\",\"colorbar\":{\"outlinewidth\":0,\"ticks\":\"\"},\"colorscale\":[[0.0,\"#0d0887\"],[0.1111111111111111,\"#46039f\"],[0.2222222222222222,\"#7201a8\"],[0.3333333333333333,\"#9c179e\"],[0.4444444444444444,\"#bd3786\"],[0.5555555555555556,\"#d8576b\"],[0.6666666666666666,\"#ed7953\"],[0.7777777777777778,\"#fb9f3a\"],[0.8888888888888888,\"#fdca26\"],[1.0,\"#f0f921\"]]}],\"heatmap\":[{\"type\":\"heatmap\",\"colorbar\":{\"outlinewidth\":0,\"ticks\":\"\"},\"colorscale\":[[0.0,\"#0d0887\"],[0.1111111111111111,\"#46039f\"],[0.2222222222222222,\"#7201a8\"],[0.3333333333333333,\"#9c179e\"],[0.4444444444444444,\"#bd3786\"],[0.5555555555555556,\"#d8576b\"],[0.6666666666666666,\"#ed7953\"],[0.7777777777777778,\"#fb9f3a\"],[0.8888888888888888,\"#fdca26\"],[1.0,\"#f0f921\"]]}],\"heatmapgl\":[{\"type\":\"heatmapgl\",\"colorbar\":{\"outlinewidth\":0,\"ticks\":\"\"},\"colorscale\":[[0.0,\"#0d0887\"],[0.1111111111111111,\"#46039f\"],[0.2222222222222222,\"#7201a8\"],[0.3333333333333333,\"#9c179e\"],[0.4444444444444444,\"#bd3786\"],[0.5555555555555556,\"#d8576b\"],[0.6666666666666666,\"#ed7953\"],[0.7777777777777778,\"#fb9f3a\"],[0.8888888888888888,\"#fdca26\"],[1.0,\"#f0f921\"]]}],\"contourcarpet\":[{\"type\":\"contourcarpet\",\"colorbar\":{\"outlinewidth\":0,\"ticks\":\"\"}}],\"contour\":[{\"type\":\"contour\",\"colorbar\":{\"outlinewidth\":0,\"ticks\":\"\"},\"colorscale\":[[0.0,\"#0d0887\"],[0.1111111111111111,\"#46039f\"],[0.2222222222222222,\"#7201a8\"],[0.3333333333333333,\"#9c179e\"],[0.4444444444444444,\"#bd3786\"],[0.5555555555555556,\"#d8576b\"],[0.6666666666666666,\"#ed7953\"],[0.7777777777777778,\"#fb9f3a\"],[0.8888888888888888,\"#fdca26\"],[1.0,\"#f0f921\"]]}],\"surface\":[{\"type\":\"surface\",\"colorbar\":{\"outlinewidth\":0,\"ticks\":\"\"},\"colorscale\":[[0.0,\"#0d0887\"],[0.1111111111111111,\"#46039f\"],[0.2222222222222222,\"#7201a8\"],[0.3333333333333333,\"#9c179e\"],[0.4444444444444444,\"#bd3786\"],[0.5555555555555556,\"#d8576b\"],[0.6666666666666666,\"#ed7953\"],[0.7777777777777778,\"#fb9f3a\"],[0.8888888888888888,\"#fdca26\"],[1.0,\"#f0f921\"]]}],\"mesh3d\":[{\"type\":\"mesh3d\",\"colorbar\":{\"outlinewidth\":0,\"ticks\":\"\"}}],\"scatter\":[{\"fillpattern\":{\"fillmode\":\"overlay\",\"size\":10,\"solidity\":0.2},\"type\":\"scatter\"}],\"parcoords\":[{\"type\":\"parcoords\",\"line\":{\"colorbar\":{\"outlinewidth\":0,\"ticks\":\"\"}}}],\"scatterpolargl\":[{\"type\":\"scatterpolargl\",\"marker\":{\"colorbar\":{\"outlinewidth\":0,\"ticks\":\"\"}}}],\"bar\":[{\"error_x\":{\"color\":\"#2a3f5f\"},\"error_y\":{\"color\":\"#2a3f5f\"},\"marker\":{\"line\":{\"color\":\"#E5ECF6\",\"width\":0.5},\"pattern\":{\"fillmode\":\"overlay\",\"size\":10,\"solidity\":0.2}},\"type\":\"bar\"}],\"scattergeo\":[{\"type\":\"scattergeo\",\"marker\":{\"colorbar\":{\"outlinewidth\":0,\"ticks\":\"\"}}}],\"scatterpolar\":[{\"type\":\"scatterpolar\",\"marker\":{\"colorbar\":{\"outlinewidth\":0,\"ticks\":\"\"}}}],\"histogram\":[{\"marker\":{\"pattern\":{\"fillmode\":\"overlay\",\"size\":10,\"solidity\":0.2}},\"type\":\"histogram\"}],\"scattergl\":[{\"type\":\"scattergl\",\"marker\":{\"colorbar\":{\"outlinewidth\":0,\"ticks\":\"\"}}}],\"scatter3d\":[{\"type\":\"scatter3d\",\"line\":{\"colorbar\":{\"outlinewidth\":0,\"ticks\":\"\"}},\"marker\":{\"colorbar\":{\"outlinewidth\":0,\"ticks\":\"\"}}}],\"scattermapbox\":[{\"type\":\"scattermapbox\",\"marker\":{\"colorbar\":{\"outlinewidth\":0,\"ticks\":\"\"}}}],\"scatterternary\":[{\"type\":\"scatterternary\",\"marker\":{\"colorbar\":{\"outlinewidth\":0,\"ticks\":\"\"}}}],\"scattercarpet\":[{\"type\":\"scattercarpet\",\"marker\":{\"colorbar\":{\"outlinewidth\":0,\"ticks\":\"\"}}}],\"carpet\":[{\"aaxis\":{\"endlinecolor\":\"#2a3f5f\",\"gridcolor\":\"white\",\"linecolor\":\"white\",\"minorgridcolor\":\"white\",\"startlinecolor\":\"#2a3f5f\"},\"baxis\":{\"endlinecolor\":\"#2a3f5f\",\"gridcolor\":\"white\",\"linecolor\":\"white\",\"minorgridcolor\":\"white\",\"startlinecolor\":\"#2a3f5f\"},\"type\":\"carpet\"}],\"table\":[{\"cells\":{\"fill\":{\"color\":\"#EBF0F8\"},\"line\":{\"color\":\"white\"}},\"header\":{\"fill\":{\"color\":\"#C8D4E3\"},\"line\":{\"color\":\"white\"}},\"type\":\"table\"}],\"barpolar\":[{\"marker\":{\"line\":{\"color\":\"#E5ECF6\",\"width\":0.5},\"pattern\":{\"fillmode\":\"overlay\",\"size\":10,\"solidity\":0.2}},\"type\":\"barpolar\"}],\"pie\":[{\"automargin\":true,\"type\":\"pie\"}]},\"layout\":{\"autotypenumbers\":\"strict\",\"colorway\":[\"#636efa\",\"#EF553B\",\"#00cc96\",\"#ab63fa\",\"#FFA15A\",\"#19d3f3\",\"#FF6692\",\"#B6E880\",\"#FF97FF\",\"#FECB52\"],\"font\":{\"color\":\"#2a3f5f\"},\"hovermode\":\"closest\",\"hoverlabel\":{\"align\":\"left\"},\"paper_bgcolor\":\"white\",\"plot_bgcolor\":\"#E5ECF6\",\"polar\":{\"bgcolor\":\"#E5ECF6\",\"angularaxis\":{\"gridcolor\":\"white\",\"linecolor\":\"white\",\"ticks\":\"\"},\"radialaxis\":{\"gridcolor\":\"white\",\"linecolor\":\"white\",\"ticks\":\"\"}},\"ternary\":{\"bgcolor\":\"#E5ECF6\",\"aaxis\":{\"gridcolor\":\"white\",\"linecolor\":\"white\",\"ticks\":\"\"},\"baxis\":{\"gridcolor\":\"white\",\"linecolor\":\"white\",\"ticks\":\"\"},\"caxis\":{\"gridcolor\":\"white\",\"linecolor\":\"white\",\"ticks\":\"\"}},\"coloraxis\":{\"colorbar\":{\"outlinewidth\":0,\"ticks\":\"\"}},\"colorscale\":{\"sequential\":[[0.0,\"#0d0887\"],[0.1111111111111111,\"#46039f\"],[0.2222222222222222,\"#7201a8\"],[0.3333333333333333,\"#9c179e\"],[0.4444444444444444,\"#bd3786\"],[0.5555555555555556,\"#d8576b\"],[0.6666666666666666,\"#ed7953\"],[0.7777777777777778,\"#fb9f3a\"],[0.8888888888888888,\"#fdca26\"],[1.0,\"#f0f921\"]],\"sequentialminus\":[[0.0,\"#0d0887\"],[0.1111111111111111,\"#46039f\"],[0.2222222222222222,\"#7201a8\"],[0.3333333333333333,\"#9c179e\"],[0.4444444444444444,\"#bd3786\"],[0.5555555555555556,\"#d8576b\"],[0.6666666666666666,\"#ed7953\"],[0.7777777777777778,\"#fb9f3a\"],[0.8888888888888888,\"#fdca26\"],[1.0,\"#f0f921\"]],\"diverging\":[[0,\"#8e0152\"],[0.1,\"#c51b7d\"],[0.2,\"#de77ae\"],[0.3,\"#f1b6da\"],[0.4,\"#fde0ef\"],[0.5,\"#f7f7f7\"],[0.6,\"#e6f5d0\"],[0.7,\"#b8e186\"],[0.8,\"#7fbc41\"],[0.9,\"#4d9221\"],[1,\"#276419\"]]},\"xaxis\":{\"gridcolor\":\"white\",\"linecolor\":\"white\",\"ticks\":\"\",\"title\":{\"standoff\":15},\"zerolinecolor\":\"white\",\"automargin\":true,\"zerolinewidth\":2},\"yaxis\":{\"gridcolor\":\"white\",\"linecolor\":\"white\",\"ticks\":\"\",\"title\":{\"standoff\":15},\"zerolinecolor\":\"white\",\"automargin\":true,\"zerolinewidth\":2},\"scene\":{\"xaxis\":{\"backgroundcolor\":\"#E5ECF6\",\"gridcolor\":\"white\",\"linecolor\":\"white\",\"showbackground\":true,\"ticks\":\"\",\"zerolinecolor\":\"white\",\"gridwidth\":2},\"yaxis\":{\"backgroundcolor\":\"#E5ECF6\",\"gridcolor\":\"white\",\"linecolor\":\"white\",\"showbackground\":true,\"ticks\":\"\",\"zerolinecolor\":\"white\",\"gridwidth\":2},\"zaxis\":{\"backgroundcolor\":\"#E5ECF6\",\"gridcolor\":\"white\",\"linecolor\":\"white\",\"showbackground\":true,\"ticks\":\"\",\"zerolinecolor\":\"white\",\"gridwidth\":2}},\"shapedefaults\":{\"line\":{\"color\":\"#2a3f5f\"}},\"annotationdefaults\":{\"arrowcolor\":\"#2a3f5f\",\"arrowhead\":0,\"arrowwidth\":1},\"geo\":{\"bgcolor\":\"white\",\"landcolor\":\"#E5ECF6\",\"subunitcolor\":\"white\",\"showland\":true,\"showlakes\":true,\"lakecolor\":\"white\"},\"title\":{\"x\":0.05},\"mapbox\":{\"style\":\"light\"}}},\"title\":{\"text\":\"Temperatures over time\"},\"autosize\":false,\"width\":600,\"height\":600},                        {\"responsive\": true}                    ).then(function(){\n",
       "                            \n",
       "var gd = document.getElementById('e34a79d5-f72e-4ba7-8bf7-4780cea0960f');\n",
       "var x = new MutationObserver(function (mutations, observer) {{\n",
       "        var display = window.getComputedStyle(gd).display;\n",
       "        if (!display || display === 'none') {{\n",
       "            console.log([gd, 'removed!']);\n",
       "            Plotly.purge(gd);\n",
       "            observer.disconnect();\n",
       "        }}\n",
       "}});\n",
       "\n",
       "// Listen for the removal of the full notebook cells\n",
       "var notebookContainer = gd.closest('#notebook-container');\n",
       "if (notebookContainer) {{\n",
       "    x.observe(notebookContainer, {childList: true});\n",
       "}}\n",
       "\n",
       "// Listen for the clearing of the current output cell\n",
       "var outputEl = gd.closest('.output');\n",
       "if (outputEl) {{\n",
       "    x.observe(outputEl, {childList: true});\n",
       "}}\n",
       "\n",
       "                        })                };                });            </script>        </div>"
      ]
     },
     "metadata": {},
     "output_type": "display_data"
    }
   ],
   "source": [
    "#Plot ALL weather data for all stations for a year \n",
    "\n",
    "#X = weather station\n",
    "#Y = day of the year\n",
    "#Z = temperature\n",
    "\n",
    "#you can click/hold in the graph below to rotate!\n",
    "\n",
    "fig = go.Figure(data=[go.Surface(z=notempyear.values)])\n",
    "fig.update_layout(title='Temperatures over time', autosize=False,\n",
    "                  width=600, height=600)\n",
    "fig.show()"
   ]
  },
  {
   "cell_type": "code",
   "execution_count": 63,
   "id": "f9aea972-5377-4569-b954-04300082eee5",
   "metadata": {},
   "outputs": [
    {
     "data": {
      "text/html": [
       "<div>\n",
       "<style scoped>\n",
       "    .dataframe tbody tr th:only-of-type {\n",
       "        vertical-align: middle;\n",
       "    }\n",
       "\n",
       "    .dataframe tbody tr th {\n",
       "        vertical-align: top;\n",
       "    }\n",
       "\n",
       "    .dataframe thead th {\n",
       "        text-align: right;\n",
       "    }\n",
       "</style>\n",
       "<table border=\"1\" class=\"dataframe\">\n",
       "  <thead>\n",
       "    <tr style=\"text-align: right;\">\n",
       "      <th></th>\n",
       "      <th>index</th>\n",
       "    </tr>\n",
       "  </thead>\n",
       "  <tbody>\n",
       "    <tr>\n",
       "      <th>0</th>\n",
       "      <td>0.01</td>\n",
       "    </tr>\n",
       "    <tr>\n",
       "      <th>1</th>\n",
       "      <td>0.02</td>\n",
       "    </tr>\n",
       "    <tr>\n",
       "      <th>2</th>\n",
       "      <td>0.03</td>\n",
       "    </tr>\n",
       "    <tr>\n",
       "      <th>3</th>\n",
       "      <td>0.04</td>\n",
       "    </tr>\n",
       "    <tr>\n",
       "      <th>4</th>\n",
       "      <td>0.05</td>\n",
       "    </tr>\n",
       "    <tr>\n",
       "      <th>...</th>\n",
       "      <td>...</td>\n",
       "    </tr>\n",
       "    <tr>\n",
       "      <th>360</th>\n",
       "      <td>3.61</td>\n",
       "    </tr>\n",
       "    <tr>\n",
       "      <th>361</th>\n",
       "      <td>3.62</td>\n",
       "    </tr>\n",
       "    <tr>\n",
       "      <th>362</th>\n",
       "      <td>3.63</td>\n",
       "    </tr>\n",
       "    <tr>\n",
       "      <th>363</th>\n",
       "      <td>3.64</td>\n",
       "    </tr>\n",
       "    <tr>\n",
       "      <th>364</th>\n",
       "      <td>3.65</td>\n",
       "    </tr>\n",
       "  </tbody>\n",
       "</table>\n",
       "<p>365 rows × 1 columns</p>\n",
       "</div>"
      ],
      "text/plain": [
       "     index\n",
       "0     0.01\n",
       "1     0.02\n",
       "2     0.03\n",
       "3     0.04\n",
       "4     0.05\n",
       "..     ...\n",
       "360   3.61\n",
       "361   3.62\n",
       "362   3.63\n",
       "363   3.64\n",
       "364   3.65\n",
       "\n",
       "[365 rows x 1 columns]"
      ]
     },
     "execution_count": 63,
     "metadata": {},
     "output_type": "execute_result"
    }
   ],
   "source": [
    "#We need to make an index for the year. Create a set of data from 1 to 365 (or to 366 if it's a leap year!)\n",
    "#We'll scale this by 100 as the index is made. This will help teh gradient descent converge 366 = 3.66\n",
    "\n",
    "i = np.arange(0.01,3.66,0.01) #<---needs to be one GREATER than the total number of days\n",
    "index = pd.DataFrame(data = i, columns = ['index'])\n",
    "index"
   ]
  },
  {
   "cell_type": "code",
   "execution_count": 55,
   "id": "c2edf44f-7950-4105-bd60-149dfd2e0841",
   "metadata": {},
   "outputs": [
    {
     "data": {
      "text/plain": [
       "17"
      ]
     },
     "execution_count": 55,
     "metadata": {},
     "output_type": "execute_result"
    }
   ],
   "source": [
    "n_rows = dfyear.shape[0]\n",
    "n_rows"
   ]
  },
  {
   "cell_type": "code",
   "execution_count": 61,
   "id": "e30a7fbc-fec0-443e-9cb1-aa038015a12c",
   "metadata": {},
   "outputs": [
    {
     "ename": "ValueError",
     "evalue": "cannot reshape array of size 365 into shape (17,1)",
     "output_type": "error",
     "traceback": [
      "\u001b[1;31m---------------------------------------------------------------------------\u001b[0m",
      "\u001b[1;31mValueError\u001b[0m                                Traceback (most recent call last)",
      "Cell \u001b[1;32mIn[61], line 3\u001b[0m\n\u001b[0;32m      1\u001b[0m \u001b[38;5;66;03m#This will translate your chosen weather data into the X and y datasets needed for the optimization function.\u001b[39;00m\n\u001b[1;32m----> 3\u001b[0m X\u001b[38;5;241m=\u001b[39mindex\u001b[38;5;241m.\u001b[39mto_numpy()\u001b[38;5;241m.\u001b[39mreshape(n_rows,\u001b[38;5;241m1\u001b[39m)\n\u001b[0;32m      4\u001b[0m \u001b[38;5;66;03m#Represent x_0 as a vector of 1s for vector computation\u001b[39;00m\n\u001b[0;32m      5\u001b[0m ones \u001b[38;5;241m=\u001b[39m np\u001b[38;5;241m.\u001b[39mones((n_rows,\u001b[38;5;241m1\u001b[39m))\n",
      "\u001b[1;31mValueError\u001b[0m: cannot reshape array of size 365 into shape (17,1)"
     ]
    }
   ],
   "source": [
    "#This will translate your chosen weather data into the X and y datasets needed for the optimization function.\n",
    "\n",
    "X=index.to_numpy().reshape(n_rows,1)\n",
    "#Represent x_0 as a vector of 1s for vector computation\n",
    "ones = np.ones((n_rows,1))\n",
    "X = np.concatenate((ones, X), axis=1)\n",
    "y=dfyear['BASEL_temp_mean'].to_numpy().reshape(n_rows,1) #Basel 1962"
   ]
  },
  {
   "cell_type": "code",
   "execution_count": null,
   "id": "8ab3adf8-d6bb-4b7e-9a77-ca55f43c0781",
   "metadata": {},
   "outputs": [],
   "source": []
  }
 ],
 "metadata": {
  "kernelspec": {
   "display_name": "Python 3 (ipykernel)",
   "language": "python",
   "name": "python3"
  },
  "language_info": {
   "codemirror_mode": {
    "name": "ipython",
    "version": 3
   },
   "file_extension": ".py",
   "mimetype": "text/x-python",
   "name": "python",
   "nbconvert_exporter": "python",
   "pygments_lexer": "ipython3",
   "version": "3.12.7"
  }
 },
 "nbformat": 4,
 "nbformat_minor": 5
}
